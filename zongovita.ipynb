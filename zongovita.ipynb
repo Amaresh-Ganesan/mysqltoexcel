{
 "cells": [
  {
   "cell_type": "code",
   "execution_count": 2,
   "metadata": {},
   "outputs": [
    {
     "name": "stdout",
     "output_type": "stream",
     "text": [
      "Collecting openpyxl\n",
      "  Downloading openpyxl-3.1.2-py2.py3-none-any.whl (249 kB)\n",
      "     ---------------------------------------- 0.0/250.0 kB ? eta -:--:--\n",
      "     ---- ---------------------------------- 30.7/250.0 kB 1.3 MB/s eta 0:00:01\n",
      "     ----------------- -------------------- 112.6/250.0 kB 1.3 MB/s eta 0:00:01\n",
      "     ------------------------ ------------- 163.8/250.0 kB 1.6 MB/s eta 0:00:01\n",
      "     -------------------------------------  245.8/250.0 kB 1.4 MB/s eta 0:00:01\n",
      "     -------------------------------------- 250.0/250.0 kB 1.3 MB/s eta 0:00:00\n",
      "Collecting et-xmlfile (from openpyxl)\n",
      "  Downloading et_xmlfile-1.1.0-py3-none-any.whl (4.7 kB)\n",
      "Installing collected packages: et-xmlfile, openpyxl\n",
      "Successfully installed et-xmlfile-1.1.0 openpyxl-3.1.2\n"
     ]
    }
   ],
   "source": [
    "!pip install openpyxl"
   ]
  },
  {
   "cell_type": "code",
   "execution_count": 18,
   "metadata": {},
   "outputs": [],
   "source": [
    "import mysql.connector\n",
    "db_connection = mysql.connector.connect(\n",
    "    host=\"localhost\",\n",
    "    user=\"root\",\n",
    "    password=\"zongovita\",\n",
    "    database=\"employees\"\n",
    ")"
   ]
  },
  {
   "cell_type": "code",
   "execution_count": 19,
   "metadata": {},
   "outputs": [
    {
     "name": "stdout",
     "output_type": "stream",
     "text": [
      "<mysql.connector.connection_cext.CMySQLConnection object at 0x000002174942BA50>\n"
     ]
    }
   ],
   "source": [
    "print(db_connection)"
   ]
  },
  {
   "cell_type": "code",
   "execution_count": 20,
   "metadata": {},
   "outputs": [
    {
     "name": "stderr",
     "output_type": "stream",
     "text": [
      "C:\\Users\\DELL\\AppData\\Local\\Temp\\ipykernel_20052\\1618652345.py:3: UserWarning: pandas only supports SQLAlchemy connectable (engine/connection) or database string URI or sqlite3 DBAPI2 connection. Other DBAPI2 objects are not tested. Please consider using SQLAlchemy.\n",
      "  df1 = pd.read_sql(\"SELECT * FROM EmployeeDetails1\", db_connection)\n",
      "C:\\Users\\DELL\\AppData\\Local\\Temp\\ipykernel_20052\\1618652345.py:4: UserWarning: pandas only supports SQLAlchemy connectable (engine/connection) or database string URI or sqlite3 DBAPI2 connection. Other DBAPI2 objects are not tested. Please consider using SQLAlchemy.\n",
      "  df2 = pd.read_sql(\"SELECT * FROM EmployeeDetails2\", db_connection)\n"
     ]
    }
   ],
   "source": [
    "import pandas as pd\n",
    "\n",
    "df1 = pd.read_sql(\"SELECT * FROM EmployeeDetails1\", db_connection)\n",
    "df2 = pd.read_sql(\"SELECT * FROM EmployeeDetails2\", db_connection)\n",
    "\n",
    "\n",
    "merged_df = pd.merge(df1, df2, on='EmployeeID')\n"
   ]
  },
  {
   "cell_type": "code",
   "execution_count": 21,
   "metadata": {},
   "outputs": [
    {
     "name": "stdout",
     "output_type": "stream",
     "text": [
      "   EmployeeID FirstName LastName Department\n",
      "0           1   Vasanth    Kumar         IT\n",
      "1           2     Manab   Jyothi        Acc\n",
      "2           3     Varun   Sharma  Marketing\n",
      "3           4     Rohit   Sharma         IT\n",
      "4           5     rohan      raj       Tele\n"
     ]
    }
   ],
   "source": [
    "print(df1)\n"
   ]
  },
  {
   "cell_type": "code",
   "execution_count": 23,
   "metadata": {},
   "outputs": [
    {
     "name": "stdout",
     "output_type": "stream",
     "text": [
      "   EmployeeID  salary      place\n",
      "0           1   45000  Bengaluru\n",
      "1           2   55000   Hydrabad\n",
      "2           3   35000    Chennai\n",
      "3           4   55000  Bengaluru\n",
      "4           5   65000     Mumbai\n"
     ]
    }
   ],
   "source": [
    "print(df2)"
   ]
  },
  {
   "cell_type": "code",
   "execution_count": 24,
   "metadata": {},
   "outputs": [
    {
     "name": "stdout",
     "output_type": "stream",
     "text": [
      "   EmployeeID FirstName LastName Department  salary      place\n",
      "0           1   Vasanth    Kumar         IT   45000  Bengaluru\n",
      "1           2     Manab   Jyothi        Acc   55000   Hydrabad\n",
      "2           3     Varun   Sharma  Marketing   35000    Chennai\n",
      "3           4     Rohit   Sharma         IT   55000  Bengaluru\n",
      "4           5     rohan      raj       Tele   65000     Mumbai\n"
     ]
    }
   ],
   "source": [
    "merged_df = pd.merge(df1, df2, on='EmployeeID')\n",
    "print(merged_df)"
   ]
  },
  {
   "cell_type": "code",
   "execution_count": 10,
   "metadata": {},
   "outputs": [],
   "source": [
    "from openpyxl import Workbook\n",
    "from openpyxl.styles import Font, Border, Side\n",
    "\n",
    "wb = Workbook()\n",
    "ws = wb.active\n",
    "\n",
    "header = merged_df.columns\n",
    "for col_num, value in enumerate(header, 1):\n",
    "    cell = ws.cell(row=1, column=col_num, value=value)\n",
    "    cell.font = Font(bold=True)\n",
    "\n",
    "for row_num, row_data in enumerate(merged_df.values, 2):\n",
    "    for col_num, value in enumerate(row_data, 1):\n",
    "        ws.cell(row=row_num, column=col_num, value=value)\n",
    "\n",
    "border_style = Side(border_style=\"thin\")\n",
    "for row in ws.iter_rows(min_row=1, max_row=ws.max_row, min_col=1, max_col=ws.max_column):\n",
    "    for cell in row:\n",
    "        cell.border = Border(left=border_style, right=border_style, top=border_style, bottom=border_style)\n",
    "\n",
    "wb.save(\"employee_data.xlsx\")\n"
   ]
  },
  {
   "cell_type": "code",
   "execution_count": null,
   "metadata": {},
   "outputs": [],
   "source": []
  }
 ],
 "metadata": {
  "kernelspec": {
   "display_name": "Python 3",
   "language": "python",
   "name": "python3"
  },
  "language_info": {
   "codemirror_mode": {
    "name": "ipython",
    "version": 3
   },
   "file_extension": ".py",
   "mimetype": "text/x-python",
   "name": "python",
   "nbconvert_exporter": "python",
   "pygments_lexer": "ipython3",
   "version": "3.11.4"
  }
 },
 "nbformat": 4,
 "nbformat_minor": 2
}
